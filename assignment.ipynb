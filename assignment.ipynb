{
 "cells": [
  {
   "cell_type": "markdown",
   "metadata": {},
   "source": [
    "#### 1. Take values of length and breadth of a rectangle from the user and check if it is square or not. Return area of the rectangle.\n",
    " \n",
    "Input: 5, 5\n",
    "\n",
    "Output: (25, True)"
   ]
  },
  {
   "cell_type": "code",
   "execution_count": 2,
   "metadata": {},
   "outputs": [],
   "source": [
    "# don't change any function name write you all code inside the function only for every question solution and return you output as mentioned in problem statement.\n",
    "\n",
    "\n",
    "def question_first_solution(length, breadth):\n",
    "    if length == breadth:\n",
    "        check = True\n",
    "    else:\n",
    "        check = False\n",
    "    area = length * breadth\n",
    "    \n",
    "    return(area ,check)"
   ]
  },
  {
   "cell_type": "markdown",
   "metadata": {},
   "source": [
    "#### 2. Write a Python program that accepts an integer (n) and computes the value of n+nn+nnn.\n",
    "\n",
    "Input: 5\n",
    "\n",
    "Output: 615"
   ]
  },
  {
   "cell_type": "code",
   "execution_count": 4,
   "metadata": {},
   "outputs": [
    {
     "data": {
      "text/plain": [
       "615"
      ]
     },
     "execution_count": 4,
     "metadata": {},
     "output_type": "execute_result"
    }
   ],
   "source": [
    "def question_second_solution(nums):\n",
    "    return nums + ((nums * 10) + nums)+ ((nums * 100)+(nums * 10) + nums)\n",
    "    "
   ]
  },
  {
   "cell_type": "markdown",
   "metadata": {},
   "source": [
    "#### 3. A company decided to deduct pf of 12% of salary if the year of service is less than 5 years and 24% employee if his/her year of service is more than 5 years.\n",
    "\n",
    "Input: 25000, 5\n",
    "\n",
    "Output: 22000.0"
   ]
  },
  {
   "cell_type": "code",
   "execution_count": 4,
   "metadata": {},
   "outputs": [],
   "source": [
    "def question_third_solution(sal, noy):\n",
    "    if noy <= 5:\n",
    "        sal -= float(sal*0.12)\n",
    "        return(sal)\n",
    "    elif noy > 5:\n",
    "        sal -= float(sal*0.24)\n",
    "        return(sal)\n",
    "    else:\n",
    "        return(sal)"
   ]
  },
  {
   "cell_type": "markdown",
   "metadata": {},
   "source": [
    "#### 4. A school has following rules for grading system:\n",
    "\n",
    "a. Below 40 - F\n",
    "\n",
    "b. 40 to 50 - C\n",
    "\n",
    "c. 50 to 60 - C+\n",
    "\n",
    "d. 60 to 70 - B\n",
    "\n",
    "e. 70 to 80 - B+\n",
    "\n",
    "f. 80 to 90 - A\n",
    "\n",
    "g. Above 90 - A+\n",
    "\n",
    "Enter marks for their 5 main subjects and print the corresponding grade and overall grade for an average of marks.\n",
    " \n",
    "Input: 50,96,85,65,95\n",
    "\n",
    "Output: ('B+',78.2)"
   ]
  },
  {
   "cell_type": "code",
   "execution_count": 1,
   "metadata": {},
   "outputs": [
    {
     "data": {
      "text/plain": [
       "('B+', 78.2)"
      ]
     },
     "execution_count": 1,
     "metadata": {},
     "output_type": "execute_result"
    }
   ],
   "source": [
    "def question_fourth_solution(a,b,c,d,e):\n",
    "    avg = (a+b+c+d+e)/5\n",
    "    if avg < 40:\n",
    "        return(\"\"'F'\"\",avg)\n",
    "    elif avg >= 40 and avg <= 50:\n",
    "        return(\"\"'C'\"\",avg)\n",
    "    elif avg >= 50 and avg <= 60:\n",
    "        return(\"\"'C+'\"\",avg)\n",
    "    elif avg >= 60 and avg <= 70:\n",
    "        return(\"\"'B'\"\",avg)\n",
    "    elif avg >= 70 and avg <= 80:\n",
    "        return(\"\"'B+'\"\",avg)\n",
    "    elif avg >= 80 and avg <= 90:\n",
    "        return(\"\"'A'\"\",avg)\n",
    "    else:\n",
    "        return(\"\"'A'\"\",avg)\n"
   ]
  },
  {
   "cell_type": "markdown",
   "metadata": {},
   "source": [
    "#### 5. A student will not be allowed to sit in the exam if his/her attendance is less than 75%.\n",
    "\n",
    "Enter the number of classes held Number of classes attended. And the print percentage of class attended Is the student is allowed to sit in the exam or not.\n",
    "\n",
    "Input: 248,189\n",
    "\n",
    "Output: ('76.21', True)"
   ]
  },
  {
   "cell_type": "code",
   "execution_count": 6,
   "metadata": {},
   "outputs": [],
   "source": [
    "def question_fifth_solution(noc,n):\n",
    "    per = n / noc * 100\n",
    "    attendance = format(per,'.2f')\n",
    "    if per < 75:\n",
    "        check = False\n",
    "    else:\n",
    "        check = True\n",
    "   \n",
    "    return(attendance, check)"
   ]
  },
  {
   "cell_type": "markdown",
   "metadata": {},
   "source": [
    "#### 6. Write a program to check if a year is a leap year or not.\n",
    "If a year is divisible by 4 then it is a leap year but if the year is century year like 2000, 1900, 2100 then it must be divisible by 400.\n",
    " \n",
    "Input: 2020\n",
    "\n",
    "Output: True"
   ]
  },
  {
   "cell_type": "code",
   "execution_count": 7,
   "metadata": {},
   "outputs": [],
   "source": [
    "def question_sixth_solution(year):\n",
    "    if (year % 4) == 0: \n",
    "        if (year % 100) == 0: \n",
    "            if (year % 400) == 0: \n",
    "                return True\n",
    "            else: \n",
    "                return False\n",
    "        else: \n",
    "             return True\n",
    "    else: \n",
    "        return False"
   ]
  },
  {
   "cell_type": "markdown",
   "metadata": {},
   "source": [
    "### 7.  Enter age, gender ( M or F ), marital status ( Y or N ) and then using the following rules print their place of service.\n",
    "    if an employee is female, then she will work only in urban areas.\n",
    "    if an employee is a male and age is between 20 to 30 and not married then he may work anywhere.\n",
    "    if an employee is a female and age is between 20 to 30 and not married then she may work in urban areas.\n",
    "    if an employee is male and age is between 20 t0 30 and married then he will work in nearby Hometown.\n",
    "    if an employee is female and age is between 20 t0 30 and married then she will work in her husband's city.\n",
    "    And any other input of age should print \"ERROR\".\n",
    " \n",
    "Input: 25, \"F\", \"Y\"\n",
    "\n",
    "Output: \"You will work in your husband's city.\""
   ]
  },
  {
   "cell_type": "code",
   "execution_count": 8,
   "metadata": {},
   "outputs": [],
   "source": [
    "def question_seventh_solution(age, gen , mar_status):\n",
    "    if gen == \"F\" and age == 0 and mar_status == \" \":\n",
    "        return(\"she will work only in urban areas\")\n",
    "    if gen == \"M\" and age >=20 and age <=30 and mar_status == \"N\":\n",
    "        return(\"You may work anywhere.\")\n",
    "    elif gen == \"F\" and age >=20 and age <=30 and mar_status == \"N\":\n",
    "        return(\"You may work in urban areas.\")\n",
    "    if gen == \"M\" and age >=20 and age <=30 and mar_status == \"Y\":\n",
    "        return(\"You will work nearby hometown.\")\n",
    "    elif gen == \"F\" and age >=20 and age <=30 and mar_status == \"Y\":\n",
    "        return(\"You will work in your husband's city.\")\n",
    "    else:\n",
    "        return(\"ERROR\")"
   ]
  },
  {
   "cell_type": "markdown",
   "metadata": {},
   "source": [
    "#### 8. Write a python program to find a type of triangle by it dimensions.\n",
    "Input: 5, 6, 5\n",
    "\n",
    "Output: \"Isosceles\""
   ]
  },
  {
   "cell_type": "code",
   "execution_count": 1,
   "metadata": {},
   "outputs": [],
   "source": [
    "def question_eighth_solution(x,y,z):\n",
    "    if x == y == z:\n",
    "        return(\"Equilateral\")\n",
    "    elif x==y or y==z or z==x:\n",
    "        return(\"Isosceles\")\n",
    "    else:\n",
    "        return(\"Obtuse\")"
   ]
  },
  {
   "cell_type": "markdown",
   "metadata": {},
   "source": [
    "#### 9. A shop will give a discount of 10% max upto 150rs if the cost of the purchased quantity is more than 1000.\n",
    "Enter quantity Suppose, one unit will cost 100rs. Judge and print total cost for the customer.\n",
    " \n",
    "Input: 15\n",
    "\n",
    "Output: 1350.0"
   ]
  },
  {
   "cell_type": "code",
   "execution_count": 5,
   "metadata": {},
   "outputs": [
    {
     "data": {
      "text/plain": [
       "1350.0"
      ]
     },
     "execution_count": 5,
     "metadata": {},
     "output_type": "execute_result"
    }
   ],
   "source": [
    "def question_ninth_solution(n):\n",
    "    if n*100 > 1000:\n",
    "        return((n*100)-(.1*n*100)) \n",
    "    else:\n",
    "        return(n*100)\n"
   ]
  },
  {
   "cell_type": "markdown",
   "metadata": {},
   "source": [
    "#### 10. Write a Python program to calculate the number of days between two dates\n",
    " \n",
    "Input: '25/01/2020', '26/01/2020'\n",
    "\n",
    "Output: '1 days 0 months 0 years'"
   ]
  },
  {
   "cell_type": "code",
   "execution_count": 1,
   "metadata": {},
   "outputs": [
    {
     "data": {
      "text/plain": [
       "'1 days 0 months 0 years'"
      ]
     },
     "execution_count": 1,
     "metadata": {},
     "output_type": "execute_result"
    }
   ],
   "source": [
    "def question_tenth_solution(a,b):\n",
    "    a = list(map(int,a.split(\"/\")))\n",
    "    b = list(map(int,b.split(\"/\")))\n",
    "    days = b[0] - a[0]\n",
    "    if days < 0:\n",
    "        days += 30\n",
    "        b[1] -= 1\n",
    "    months = b[1] - a[1]\n",
    "    if months < 0:\n",
    "        months +=12\n",
    "        b[2] -= 1\n",
    "    years = b[2] - a[2]\n",
    "    \n",
    "    return (f'{days} days {months} months {years} years')\n",
    "  "
   ]
  }
 ],
 "metadata": {
  "kernelspec": {
   "display_name": "Python 3",
   "language": "python",
   "name": "python3"
  },
  "language_info": {
   "codemirror_mode": {
    "name": "ipython",
    "version": 3
   },
   "file_extension": ".py",
   "mimetype": "text/x-python",
   "name": "python",
   "nbconvert_exporter": "python",
   "pygments_lexer": "ipython3",
   "version": "3.7.3"
  }
 },
 "nbformat": 4,
 "nbformat_minor": 4
}
